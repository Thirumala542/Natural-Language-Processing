{
 "cells": [
  {
   "cell_type": "code",
   "execution_count": 1,
   "id": "ea02325d",
   "metadata": {},
   "outputs": [],
   "source": [
    "import nltk\n",
    "from nltk.stem import WordNetLemmatizer\n",
    "from nltk.corpus import stopwords"
   ]
  },
  {
   "cell_type": "code",
   "execution_count": 2,
   "id": "eb1b4436",
   "metadata": {},
   "outputs": [],
   "source": [
    "paragraph = \"\"\"My dear countrymen,Today, all Indians in the country and also abroad are celebrating the festival of independence.\n",
    "On this day of sacred festival of independence, the prime servant of India extends greetings to all dear countrymen.\n",
    "I am present amidst you not as the Prime Minister, but as the Prime Servant. The freedom struggle was fought for so many years, \n",
    "so many generations laid down their lives, innumerable people sacrificed their lives and youth, spent their entire lives behind\n",
    "bars. Today, I pay my respect, greetings and homage to all those who laid their lives for the country`s independence.\n",
    "I also pay my respects to the crores of citizens of this country on the pious occasion of India's independence, and recall all \n",
    "those martyrs who had laid down their lives in India's struggle for freedom. The day of Independence is a festival when we take \n",
    "a solemn pledge of working for the welfare of mother India, and also for the welfare of the poor, oppressed, Dalits, the exploited\n",
    "& the backward people of our country.My dear countrymen, a national festival is an occasion to refine and rebuild the national \n",
    "character. This National festival inspires us to resolve ourselves to lead a life where our character gets refined further, to \n",
    "dedicate ourselves to the nation and our every activity is linked to the interest of the nation and only then this festival of \n",
    "freedom can be a festival of inspiration to take India to newer heights.My dear countrymen, this nation has neither been built\n",
    "by political leaders nor by rulers nor by governments.This nation has been built by our farmers, our workers, our mothers and \n",
    "sisters, our youth. The country has reached here today because of generation to generation rigours undertaken by our sages, our\n",
    "saints, our maestros, our teachers, our scientists and social workers. These great people and these great generations, who had \n",
    "worked for the country throughout their lives, deserve our deepest respect\"\"\""
   ]
  },
  {
   "cell_type": "code",
   "execution_count": 3,
   "id": "ad6da72d",
   "metadata": {},
   "outputs": [],
   "source": [
    "sentences = nltk.sent_tokenize(paragraph)\n",
    "lemmatizer = WordNetLemmatizer()\n"
   ]
  },
  {
   "cell_type": "code",
   "execution_count": 4,
   "id": "2b9e9c2c",
   "metadata": {},
   "outputs": [],
   "source": [
    "# Lemmatization\n",
    "for i in range(len(sentences)):\n",
    "    words = nltk.word_tokenize(sentences[i])\n",
    "    words = [lemmatizer.lemmatize(word) for word in words if word not in set(stopwords.words('english'))]\n",
    "    sentences[i] = ' '.join(words)   "
   ]
  },
  {
   "cell_type": "code",
   "execution_count": 5,
   "id": "90cdb0f3",
   "metadata": {},
   "outputs": [
    {
     "data": {
      "text/plain": [
       "['My dear countryman , Today , Indians country also abroad celebrating festival independence .',\n",
       " 'On day sacred festival independence , prime servant India extends greeting dear countryman .',\n",
       " 'I present amidst Prime Minister , Prime Servant .',\n",
       " 'The freedom struggle fought many year , many generation laid life , innumerable people sacrificed life youth , spent entire life behind bar .',\n",
       " 'Today , I pay respect , greeting homage laid life country ` independence .',\n",
       " \"I also pay respect crore citizen country pious occasion India 's independence , recall martyr laid life India 's struggle freedom .\",\n",
       " 'The day Independence festival take solemn pledge working welfare mother India , also welfare poor , oppressed , Dalits , exploited & backward people country.My dear countryman , national festival occasion refine rebuild national character .',\n",
       " 'This National festival inspires u resolve lead life character get refined , dedicate nation every activity linked interest nation festival freedom festival inspiration take India newer heights.My dear countryman , nation neither built political leader ruler governments.This nation built farmer , worker , mother sister , youth .',\n",
       " 'The country reached today generation generation rigour undertaken sage , saint , maestro , teacher , scientist social worker .',\n",
       " 'These great people great generation , worked country throughout life , deserve deepest respect']"
      ]
     },
     "execution_count": 5,
     "metadata": {},
     "output_type": "execute_result"
    }
   ],
   "source": [
    "sentences"
   ]
  },
  {
   "cell_type": "code",
   "execution_count": null,
   "id": "15361a8c",
   "metadata": {},
   "outputs": [],
   "source": []
  },
  {
   "cell_type": "code",
   "execution_count": null,
   "id": "63e4c085",
   "metadata": {},
   "outputs": [],
   "source": []
  },
  {
   "cell_type": "code",
   "execution_count": null,
   "id": "a497da41",
   "metadata": {},
   "outputs": [],
   "source": []
  },
  {
   "cell_type": "code",
   "execution_count": null,
   "id": "8144d188",
   "metadata": {},
   "outputs": [],
   "source": []
  },
  {
   "cell_type": "code",
   "execution_count": null,
   "id": "428b80a3",
   "metadata": {},
   "outputs": [],
   "source": []
  },
  {
   "cell_type": "code",
   "execution_count": null,
   "id": "f6b94b05",
   "metadata": {},
   "outputs": [],
   "source": []
  },
  {
   "cell_type": "code",
   "execution_count": null,
   "id": "01b552ed",
   "metadata": {},
   "outputs": [],
   "source": []
  },
  {
   "cell_type": "code",
   "execution_count": null,
   "id": "8fd1c01f",
   "metadata": {},
   "outputs": [],
   "source": []
  },
  {
   "cell_type": "code",
   "execution_count": null,
   "id": "99dc28df",
   "metadata": {},
   "outputs": [],
   "source": []
  },
  {
   "cell_type": "code",
   "execution_count": null,
   "id": "566140fc",
   "metadata": {},
   "outputs": [],
   "source": []
  },
  {
   "cell_type": "code",
   "execution_count": null,
   "id": "4586734b",
   "metadata": {},
   "outputs": [],
   "source": []
  },
  {
   "cell_type": "code",
   "execution_count": null,
   "id": "13ba998e",
   "metadata": {},
   "outputs": [],
   "source": []
  },
  {
   "cell_type": "code",
   "execution_count": null,
   "id": "4d6907ea",
   "metadata": {},
   "outputs": [],
   "source": []
  },
  {
   "cell_type": "code",
   "execution_count": null,
   "id": "8790a2a9",
   "metadata": {},
   "outputs": [],
   "source": []
  },
  {
   "cell_type": "code",
   "execution_count": null,
   "id": "985464b7",
   "metadata": {},
   "outputs": [],
   "source": []
  },
  {
   "cell_type": "code",
   "execution_count": null,
   "id": "70f7f62e",
   "metadata": {},
   "outputs": [],
   "source": []
  }
 ],
 "metadata": {
  "kernelspec": {
   "display_name": "Python 3",
   "language": "python",
   "name": "python3"
  },
  "language_info": {
   "codemirror_mode": {
    "name": "ipython",
    "version": 3
   },
   "file_extension": ".py",
   "mimetype": "text/x-python",
   "name": "python",
   "nbconvert_exporter": "python",
   "pygments_lexer": "ipython3",
   "version": "3.8.8"
  }
 },
 "nbformat": 4,
 "nbformat_minor": 5
}
