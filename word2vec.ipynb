{
 "cells": [
  {
   "cell_type": "code",
   "execution_count": 27,
   "id": "b5dbb2d1",
   "metadata": {},
   "outputs": [],
   "source": [
    "import nltk"
   ]
  },
  {
   "cell_type": "code",
   "execution_count": 28,
   "id": "97221abc",
   "metadata": {},
   "outputs": [],
   "source": [
    "from gensim.models import Word2Vec\n",
    "from nltk.corpus import stopwords"
   ]
  },
  {
   "cell_type": "code",
   "execution_count": 29,
   "id": "36d909e0",
   "metadata": {},
   "outputs": [],
   "source": [
    "import re"
   ]
  },
  {
   "cell_type": "code",
   "execution_count": 30,
   "id": "209a05f0",
   "metadata": {},
   "outputs": [],
   "source": [
    "paragraph=\"\"\"Good Morning to one and all.\n",
    "\n",
    "Firstly, for this opportunity to deliver a speech on stage, I would like to thank all my teachers. I also want to address all my friends for all the support. A special thanks to my class teacher Ms. Sanjana Roy, for giving me such a great topic, which we all can relate with.\n",
    "\n",
    "Before I talk about the Importance of family values, I would like to ask everybody, what is the definition of family and how a family in our life keeps the most Importance. We can’t imagine our existence without our family. The members of the family define family values. In my opinion, the more the members, the merrier the family would be. Together with our parents, our grandparents, and our uncles, aunts, and cousins, living in the same roof is quite exciting.\n",
    "The kind of affection and love we get from our family is beyond words. We get our strength only when our family become our backbone and supports throughout our journey. Childhood is the time to connect with our family, but when we grow as adults, sometimes, the sentiments and affection fade away due to our busy schedules. It is also due to the reason that we are quite influenced by western culture and civilization that we feel constraint in the family atmosphere. But we have to realize; it is our family that sustains us when we face a crisis.\n",
    "\n",
    "Money is temporary, but the love for our family remains constant. The family should mean the whole world to us. But if we live together, then only it remains a family. When the family members stick to each other in the thick and thin times and understand each other, that completes the family’s values. Families share happiness and sadness, eat together, laugh together, and make memories together.\n",
    "So, wherever we go, we must maintain our family values. It shapes our identity and makes us unique from the crowd. We are nothing without our family. Even if we grow old, we should never compromise the family values and its importance.\n",
    "\n",
    "These lessons are essential throughout our life. We should understand the lessons of love and compassion towards our family, which ensures the holistic development of our personality. For the betterment of society, valuing your family is essential. If we have a happy family, society will also remain peaceful and lead to a life of harmony. It will also help the nation to progress without any crisis or conflict.\n",
    "\n",
    "Family is not just about your parents, siblings, or relatives; you can call a close group of friends also family. The teachers who give you lessons, not just regarding studies but also life lessons throughout your educational journey, we can also call them a family.\n",
    "For always teaching me the value of family and always guiding me in the right path, I am indebted to my family, friends, and teachers.\n",
    "\n",
    "Thank you.\n",
    "\n",
    "\n",
    "\n",
    "\"\"\""
   ]
  },
  {
   "cell_type": "code",
   "execution_count": 31,
   "id": "d791f065",
   "metadata": {},
   "outputs": [],
   "source": [
    "# Preprocessing the data\n",
    "text = re.sub(r'\\[[0-9]*\\]',' ',paragraph)\n",
    "text = re.sub(r'\\s+',' ',text)\n",
    "text = text.lower()\n",
    "text = re.sub(r'\\d',' ',text)\n",
    "text = re.sub(r'\\s+',' ',text)\n"
   ]
  },
  {
   "cell_type": "code",
   "execution_count": 32,
   "id": "d4ca7ee9",
   "metadata": {},
   "outputs": [],
   "source": [
    "# Preparing the dataset\n",
    "sentences = nltk.sent_tokenize(text)\n",
    "\n",
    "sentences = [nltk.word_tokenize(sentence) for sentence in sentences]\n",
    "\n",
    "for i in range(len(sentences)):\n",
    "    sentences[i] = [word for word in sentences[i] if word not in stopwords.words('english')]\n",
    "    "
   ]
  },
  {
   "cell_type": "code",
   "execution_count": 33,
   "id": "7e158340",
   "metadata": {},
   "outputs": [],
   "source": [
    "# Training the Word2Vec model\n",
    "#min_count=2 means if word is present more than 2 times keep it, else remove the word.\n",
    "model = Word2Vec(sentences, min_count=1)\n"
   ]
  },
  {
   "cell_type": "code",
   "execution_count": 34,
   "id": "00a6fbb5",
   "metadata": {},
   "outputs": [],
   "source": [
    "words = model.wv.vocab"
   ]
  },
  {
   "cell_type": "code",
   "execution_count": 35,
   "id": "7bd59935",
   "metadata": {},
   "outputs": [
    {
     "data": {
      "text/plain": [
       "{'good': <gensim.models.keyedvectors.Vocab at 0x2119a908dc0>,\n",
       " 'morning': <gensim.models.keyedvectors.Vocab at 0x2119a908d00>,\n",
       " 'one': <gensim.models.keyedvectors.Vocab at 0x2119a908cd0>,\n",
       " '.': <gensim.models.keyedvectors.Vocab at 0x2119a908bb0>,\n",
       " 'firstly': <gensim.models.keyedvectors.Vocab at 0x2119a908c40>,\n",
       " ',': <gensim.models.keyedvectors.Vocab at 0x2119a908880>,\n",
       " 'opportunity': <gensim.models.keyedvectors.Vocab at 0x2119a908280>,\n",
       " 'deliver': <gensim.models.keyedvectors.Vocab at 0x2119a908250>,\n",
       " 'speech': <gensim.models.keyedvectors.Vocab at 0x2119a908460>,\n",
       " 'stage': <gensim.models.keyedvectors.Vocab at 0x2119a908490>,\n",
       " 'would': <gensim.models.keyedvectors.Vocab at 0x2119a908100>,\n",
       " 'like': <gensim.models.keyedvectors.Vocab at 0x2119a908040>,\n",
       " 'thank': <gensim.models.keyedvectors.Vocab at 0x2119a908370>,\n",
       " 'teachers': <gensim.models.keyedvectors.Vocab at 0x2119a908f70>,\n",
       " 'also': <gensim.models.keyedvectors.Vocab at 0x2119a908f10>,\n",
       " 'want': <gensim.models.keyedvectors.Vocab at 0x2119a908640>,\n",
       " 'address': <gensim.models.keyedvectors.Vocab at 0x2119a908c70>,\n",
       " 'friends': <gensim.models.keyedvectors.Vocab at 0x2119a908b80>,\n",
       " 'support': <gensim.models.keyedvectors.Vocab at 0x2119a82d040>,\n",
       " 'special': <gensim.models.keyedvectors.Vocab at 0x2119a82d0a0>,\n",
       " 'thanks': <gensim.models.keyedvectors.Vocab at 0x2119a82d100>,\n",
       " 'class': <gensim.models.keyedvectors.Vocab at 0x2119a82d160>,\n",
       " 'teacher': <gensim.models.keyedvectors.Vocab at 0x2119a82d1c0>,\n",
       " 'ms.': <gensim.models.keyedvectors.Vocab at 0x2119a82d220>,\n",
       " 'sanjana': <gensim.models.keyedvectors.Vocab at 0x2119a82d280>,\n",
       " 'roy': <gensim.models.keyedvectors.Vocab at 0x2119a82d2e0>,\n",
       " 'giving': <gensim.models.keyedvectors.Vocab at 0x2119a82d340>,\n",
       " 'great': <gensim.models.keyedvectors.Vocab at 0x2119a82d3a0>,\n",
       " 'topic': <gensim.models.keyedvectors.Vocab at 0x2119a82d400>,\n",
       " 'relate': <gensim.models.keyedvectors.Vocab at 0x2119a82d460>,\n",
       " 'talk': <gensim.models.keyedvectors.Vocab at 0x2119a82d4c0>,\n",
       " 'importance': <gensim.models.keyedvectors.Vocab at 0x2119a82d520>,\n",
       " 'family': <gensim.models.keyedvectors.Vocab at 0x2119a82d580>,\n",
       " 'values': <gensim.models.keyedvectors.Vocab at 0x2119a82d5e0>,\n",
       " 'ask': <gensim.models.keyedvectors.Vocab at 0x2119a82d640>,\n",
       " 'everybody': <gensim.models.keyedvectors.Vocab at 0x2119a82d6a0>,\n",
       " 'definition': <gensim.models.keyedvectors.Vocab at 0x2119a82d700>,\n",
       " 'life': <gensim.models.keyedvectors.Vocab at 0x2119a82d760>,\n",
       " 'keeps': <gensim.models.keyedvectors.Vocab at 0x2119a82d7c0>,\n",
       " '’': <gensim.models.keyedvectors.Vocab at 0x2119a82d820>,\n",
       " 'imagine': <gensim.models.keyedvectors.Vocab at 0x2119a82d880>,\n",
       " 'existence': <gensim.models.keyedvectors.Vocab at 0x2119a82d8e0>,\n",
       " 'without': <gensim.models.keyedvectors.Vocab at 0x2119a82d940>,\n",
       " 'members': <gensim.models.keyedvectors.Vocab at 0x2119a82d9a0>,\n",
       " 'define': <gensim.models.keyedvectors.Vocab at 0x2119a82da00>,\n",
       " 'opinion': <gensim.models.keyedvectors.Vocab at 0x2119a82da60>,\n",
       " 'merrier': <gensim.models.keyedvectors.Vocab at 0x2119a82dac0>,\n",
       " 'together': <gensim.models.keyedvectors.Vocab at 0x2119a82db20>,\n",
       " 'parents': <gensim.models.keyedvectors.Vocab at 0x2119a82db80>,\n",
       " 'grandparents': <gensim.models.keyedvectors.Vocab at 0x2119a82dbe0>,\n",
       " 'uncles': <gensim.models.keyedvectors.Vocab at 0x2119a82dc40>,\n",
       " 'aunts': <gensim.models.keyedvectors.Vocab at 0x2119a82dca0>,\n",
       " 'cousins': <gensim.models.keyedvectors.Vocab at 0x2119a82dd00>,\n",
       " 'living': <gensim.models.keyedvectors.Vocab at 0x2119a82dd60>,\n",
       " 'roof': <gensim.models.keyedvectors.Vocab at 0x2119a82ddc0>,\n",
       " 'quite': <gensim.models.keyedvectors.Vocab at 0x2119a82de20>,\n",
       " 'exciting': <gensim.models.keyedvectors.Vocab at 0x2119a82de80>,\n",
       " 'kind': <gensim.models.keyedvectors.Vocab at 0x2119a82dee0>,\n",
       " 'affection': <gensim.models.keyedvectors.Vocab at 0x2119a82df40>,\n",
       " 'love': <gensim.models.keyedvectors.Vocab at 0x2119a82dfa0>,\n",
       " 'get': <gensim.models.keyedvectors.Vocab at 0x2119a8fe040>,\n",
       " 'beyond': <gensim.models.keyedvectors.Vocab at 0x2119a8fe0a0>,\n",
       " 'words': <gensim.models.keyedvectors.Vocab at 0x2119a8fe100>,\n",
       " 'strength': <gensim.models.keyedvectors.Vocab at 0x2119a8fe160>,\n",
       " 'become': <gensim.models.keyedvectors.Vocab at 0x2119a8fe1c0>,\n",
       " 'backbone': <gensim.models.keyedvectors.Vocab at 0x2119a8fe220>,\n",
       " 'supports': <gensim.models.keyedvectors.Vocab at 0x2119a8fe280>,\n",
       " 'throughout': <gensim.models.keyedvectors.Vocab at 0x2119a8fe2e0>,\n",
       " 'journey': <gensim.models.keyedvectors.Vocab at 0x2119a8fe340>,\n",
       " 'childhood': <gensim.models.keyedvectors.Vocab at 0x2119a8fe3a0>,\n",
       " 'time': <gensim.models.keyedvectors.Vocab at 0x2119a8fe400>,\n",
       " 'connect': <gensim.models.keyedvectors.Vocab at 0x2119a8fe460>,\n",
       " 'grow': <gensim.models.keyedvectors.Vocab at 0x2119a8fe4c0>,\n",
       " 'adults': <gensim.models.keyedvectors.Vocab at 0x2119a8fe520>,\n",
       " 'sometimes': <gensim.models.keyedvectors.Vocab at 0x2119a8fe580>,\n",
       " 'sentiments': <gensim.models.keyedvectors.Vocab at 0x2119a8fe5e0>,\n",
       " 'fade': <gensim.models.keyedvectors.Vocab at 0x2119a8fe640>,\n",
       " 'away': <gensim.models.keyedvectors.Vocab at 0x2119a8fe6a0>,\n",
       " 'due': <gensim.models.keyedvectors.Vocab at 0x2119a8fe700>,\n",
       " 'busy': <gensim.models.keyedvectors.Vocab at 0x2119a8fe760>,\n",
       " 'schedules': <gensim.models.keyedvectors.Vocab at 0x2119a8fe7c0>,\n",
       " 'reason': <gensim.models.keyedvectors.Vocab at 0x2119a8fe820>,\n",
       " 'influenced': <gensim.models.keyedvectors.Vocab at 0x2119a8fe880>,\n",
       " 'western': <gensim.models.keyedvectors.Vocab at 0x2119a8fe8e0>,\n",
       " 'culture': <gensim.models.keyedvectors.Vocab at 0x2119a8fe940>,\n",
       " 'civilization': <gensim.models.keyedvectors.Vocab at 0x2119a8fe9a0>,\n",
       " 'feel': <gensim.models.keyedvectors.Vocab at 0x2119a8fea00>,\n",
       " 'constraint': <gensim.models.keyedvectors.Vocab at 0x2119a8fea60>,\n",
       " 'atmosphere': <gensim.models.keyedvectors.Vocab at 0x2119a8feac0>,\n",
       " 'realize': <gensim.models.keyedvectors.Vocab at 0x2119a8feb20>,\n",
       " ';': <gensim.models.keyedvectors.Vocab at 0x2119a8feb80>,\n",
       " 'sustains': <gensim.models.keyedvectors.Vocab at 0x2119a8febe0>,\n",
       " 'us': <gensim.models.keyedvectors.Vocab at 0x2119a8fec40>,\n",
       " 'face': <gensim.models.keyedvectors.Vocab at 0x2119a8feca0>,\n",
       " 'crisis': <gensim.models.keyedvectors.Vocab at 0x2119a8fed00>,\n",
       " 'money': <gensim.models.keyedvectors.Vocab at 0x2119a8fed60>,\n",
       " 'temporary': <gensim.models.keyedvectors.Vocab at 0x2119a8fedc0>,\n",
       " 'remains': <gensim.models.keyedvectors.Vocab at 0x2119a8fee20>,\n",
       " 'constant': <gensim.models.keyedvectors.Vocab at 0x2119a8fee80>,\n",
       " 'mean': <gensim.models.keyedvectors.Vocab at 0x2119a8feee0>,\n",
       " 'whole': <gensim.models.keyedvectors.Vocab at 0x2119a8fef40>,\n",
       " 'world': <gensim.models.keyedvectors.Vocab at 0x2119a8fefa0>,\n",
       " 'live': <gensim.models.keyedvectors.Vocab at 0x2119a909040>,\n",
       " 'stick': <gensim.models.keyedvectors.Vocab at 0x2119a9090a0>,\n",
       " 'thick': <gensim.models.keyedvectors.Vocab at 0x2119a909100>,\n",
       " 'thin': <gensim.models.keyedvectors.Vocab at 0x2119a909160>,\n",
       " 'times': <gensim.models.keyedvectors.Vocab at 0x2119a9091c0>,\n",
       " 'understand': <gensim.models.keyedvectors.Vocab at 0x2119a909220>,\n",
       " 'completes': <gensim.models.keyedvectors.Vocab at 0x2119a909280>,\n",
       " 'families': <gensim.models.keyedvectors.Vocab at 0x2119a9092e0>,\n",
       " 'share': <gensim.models.keyedvectors.Vocab at 0x2119a909340>,\n",
       " 'happiness': <gensim.models.keyedvectors.Vocab at 0x2119a9093a0>,\n",
       " 'sadness': <gensim.models.keyedvectors.Vocab at 0x2119a909400>,\n",
       " 'eat': <gensim.models.keyedvectors.Vocab at 0x2119a909460>,\n",
       " 'laugh': <gensim.models.keyedvectors.Vocab at 0x2119a9094c0>,\n",
       " 'make': <gensim.models.keyedvectors.Vocab at 0x2119a909520>,\n",
       " 'memories': <gensim.models.keyedvectors.Vocab at 0x2119a909580>,\n",
       " 'wherever': <gensim.models.keyedvectors.Vocab at 0x2119a9095e0>,\n",
       " 'go': <gensim.models.keyedvectors.Vocab at 0x2119a909640>,\n",
       " 'must': <gensim.models.keyedvectors.Vocab at 0x2119a9096a0>,\n",
       " 'maintain': <gensim.models.keyedvectors.Vocab at 0x2119a909700>,\n",
       " 'shapes': <gensim.models.keyedvectors.Vocab at 0x2119a909760>,\n",
       " 'identity': <gensim.models.keyedvectors.Vocab at 0x2119a9097c0>,\n",
       " 'makes': <gensim.models.keyedvectors.Vocab at 0x2119a909820>,\n",
       " 'unique': <gensim.models.keyedvectors.Vocab at 0x2119a909880>,\n",
       " 'crowd': <gensim.models.keyedvectors.Vocab at 0x2119a9098e0>,\n",
       " 'nothing': <gensim.models.keyedvectors.Vocab at 0x2119a909940>,\n",
       " 'even': <gensim.models.keyedvectors.Vocab at 0x2119a9099a0>,\n",
       " 'old': <gensim.models.keyedvectors.Vocab at 0x2119a909a00>,\n",
       " 'never': <gensim.models.keyedvectors.Vocab at 0x2119a909a60>,\n",
       " 'compromise': <gensim.models.keyedvectors.Vocab at 0x2119a909ac0>,\n",
       " 'lessons': <gensim.models.keyedvectors.Vocab at 0x2119a909b20>,\n",
       " 'essential': <gensim.models.keyedvectors.Vocab at 0x2119a909b80>,\n",
       " 'compassion': <gensim.models.keyedvectors.Vocab at 0x2119a909be0>,\n",
       " 'towards': <gensim.models.keyedvectors.Vocab at 0x2119a909c40>,\n",
       " 'ensures': <gensim.models.keyedvectors.Vocab at 0x2119a909ca0>,\n",
       " 'holistic': <gensim.models.keyedvectors.Vocab at 0x2119a909d00>,\n",
       " 'development': <gensim.models.keyedvectors.Vocab at 0x2119a909d60>,\n",
       " 'personality': <gensim.models.keyedvectors.Vocab at 0x2119a909dc0>,\n",
       " 'betterment': <gensim.models.keyedvectors.Vocab at 0x2119a909e20>,\n",
       " 'society': <gensim.models.keyedvectors.Vocab at 0x2119a909e80>,\n",
       " 'valuing': <gensim.models.keyedvectors.Vocab at 0x2119a909ee0>,\n",
       " 'happy': <gensim.models.keyedvectors.Vocab at 0x2119a909f40>,\n",
       " 'remain': <gensim.models.keyedvectors.Vocab at 0x2119a909fa0>,\n",
       " 'peaceful': <gensim.models.keyedvectors.Vocab at 0x2119a913040>,\n",
       " 'lead': <gensim.models.keyedvectors.Vocab at 0x2119a9130a0>,\n",
       " 'harmony': <gensim.models.keyedvectors.Vocab at 0x2119a913100>,\n",
       " 'help': <gensim.models.keyedvectors.Vocab at 0x2119a913160>,\n",
       " 'nation': <gensim.models.keyedvectors.Vocab at 0x2119a9131c0>,\n",
       " 'progress': <gensim.models.keyedvectors.Vocab at 0x2119a913220>,\n",
       " 'conflict': <gensim.models.keyedvectors.Vocab at 0x2119a913280>,\n",
       " 'siblings': <gensim.models.keyedvectors.Vocab at 0x2119a9132e0>,\n",
       " 'relatives': <gensim.models.keyedvectors.Vocab at 0x2119a913340>,\n",
       " 'call': <gensim.models.keyedvectors.Vocab at 0x2119a9133a0>,\n",
       " 'close': <gensim.models.keyedvectors.Vocab at 0x2119a913400>,\n",
       " 'group': <gensim.models.keyedvectors.Vocab at 0x2119a913460>,\n",
       " 'give': <gensim.models.keyedvectors.Vocab at 0x2119a9134c0>,\n",
       " 'regarding': <gensim.models.keyedvectors.Vocab at 0x2119a913520>,\n",
       " 'studies': <gensim.models.keyedvectors.Vocab at 0x2119a913580>,\n",
       " 'educational': <gensim.models.keyedvectors.Vocab at 0x2119a9135e0>,\n",
       " 'always': <gensim.models.keyedvectors.Vocab at 0x2119a913640>,\n",
       " 'teaching': <gensim.models.keyedvectors.Vocab at 0x2119a9136a0>,\n",
       " 'value': <gensim.models.keyedvectors.Vocab at 0x2119a913700>,\n",
       " 'guiding': <gensim.models.keyedvectors.Vocab at 0x2119a913760>,\n",
       " 'right': <gensim.models.keyedvectors.Vocab at 0x2119a9137c0>,\n",
       " 'path': <gensim.models.keyedvectors.Vocab at 0x2119a913820>,\n",
       " 'indebted': <gensim.models.keyedvectors.Vocab at 0x2119a913880>}"
      ]
     },
     "execution_count": 35,
     "metadata": {},
     "output_type": "execute_result"
    }
   ],
   "source": [
    "words"
   ]
  },
  {
   "cell_type": "code",
   "execution_count": 36,
   "id": "20dc21be",
   "metadata": {},
   "outputs": [],
   "source": [
    "# Finding Word Vectors for particular word i.e war\n",
    "vector = model.wv['happy']"
   ]
  },
  {
   "cell_type": "code",
   "execution_count": 37,
   "id": "d60a295b",
   "metadata": {},
   "outputs": [
    {
     "data": {
      "text/plain": [
       "array([ 4.93548205e-03, -3.80172464e-03,  1.16180151e-03,  1.93623907e-03,\n",
       "       -3.45452479e-03, -4.88560740e-03,  9.02193249e-04,  3.63449275e-04,\n",
       "       -2.05452251e-03, -4.80109220e-03,  1.87260297e-03, -3.50367557e-03,\n",
       "        1.24022644e-03,  7.46296500e-05, -4.17413842e-03, -3.28583992e-03,\n",
       "       -1.20287179e-03, -4.24119178e-03,  5.40080189e-04, -8.21418187e-04,\n",
       "        3.32128606e-03,  1.73490681e-03,  4.73989639e-03, -4.95468779e-03,\n",
       "        8.37514817e-04, -3.36552534e-04,  3.94423772e-03,  2.48090737e-03,\n",
       "        2.62618269e-04,  4.08687815e-03,  1.85362180e-03,  3.52535537e-03,\n",
       "       -2.11114320e-03, -2.61541223e-03,  2.99856416e-03, -5.53324295e-04,\n",
       "       -4.54427628e-03,  2.41065794e-03,  3.40280100e-03, -1.03504641e-03,\n",
       "        5.69157244e-04,  3.71052139e-03,  1.04316015e-04,  1.65778169e-04,\n",
       "        1.91141036e-03,  3.10368091e-03,  2.11923639e-03,  3.08120507e-03,\n",
       "        2.19729613e-03, -1.98328635e-03,  9.34385054e-04, -2.70894216e-03,\n",
       "        1.60714355e-03, -1.96755212e-03,  1.64620602e-03, -4.88289213e-03,\n",
       "        3.38436244e-03,  4.74531110e-03,  3.40501801e-03, -3.98105383e-03,\n",
       "        5.88762574e-04,  2.32076354e-06,  4.64341184e-03, -1.67128805e-03,\n",
       "        4.99288086e-03,  4.88112215e-03,  4.35647741e-03,  2.93891132e-03,\n",
       "        1.17526339e-04,  1.23866042e-03, -4.33193706e-03, -2.19551381e-03,\n",
       "        4.69704997e-03, -5.68820629e-04,  2.64985370e-03,  3.91856395e-03,\n",
       "        3.66838579e-03, -2.06233980e-03, -2.37007509e-03,  2.34819343e-03,\n",
       "       -3.34252021e-03, -4.49992204e-03, -1.06841628e-03, -3.61678470e-03,\n",
       "       -1.33956620e-03,  3.99956666e-03,  3.33793345e-03, -2.62072776e-03,\n",
       "       -1.97820435e-03, -3.70067451e-03, -5.94148762e-04, -2.88895937e-03,\n",
       "        7.23554229e-04, -3.47145228e-03,  5.80080668e-04, -3.53400805e-03,\n",
       "       -1.80252246e-03, -9.44955973e-04,  2.38462468e-03,  3.40356259e-03],\n",
       "      dtype=float32)"
      ]
     },
     "execution_count": 37,
     "metadata": {},
     "output_type": "execute_result"
    }
   ],
   "source": [
    "vector"
   ]
  },
  {
   "cell_type": "code",
   "execution_count": 38,
   "id": "168d4a24",
   "metadata": {},
   "outputs": [],
   "source": [
    "# Most similar words\n",
    "similar = model.wv.most_similar('family')"
   ]
  },
  {
   "cell_type": "code",
   "execution_count": 39,
   "id": "7a7eccad",
   "metadata": {},
   "outputs": [
    {
     "data": {
      "text/plain": [
       "[('make', 0.29118233919143677),\n",
       " ('identity', 0.21693241596221924),\n",
       " ('fade', 0.2126036435365677),\n",
       " ('educational', 0.20425668358802795),\n",
       " ('remains', 0.20189711451530457),\n",
       " ('great', 0.19533154368400574),\n",
       " ('away', 0.19031518697738647),\n",
       " ('eat', 0.17857176065444946),\n",
       " ('valuing', 0.17044691741466522),\n",
       " ('culture', 0.1668207347393036)]"
      ]
     },
     "execution_count": 39,
     "metadata": {},
     "output_type": "execute_result"
    }
   ],
   "source": [
    "similar\n",
    "#in the result we are getting is nothing but the similar words to our input i.e vikram"
   ]
  },
  {
   "cell_type": "code",
   "execution_count": null,
   "id": "f7da5546",
   "metadata": {},
   "outputs": [],
   "source": []
  }
 ],
 "metadata": {
  "kernelspec": {
   "display_name": "Python 3",
   "language": "python",
   "name": "python3"
  },
  "language_info": {
   "codemirror_mode": {
    "name": "ipython",
    "version": 3
   },
   "file_extension": ".py",
   "mimetype": "text/x-python",
   "name": "python",
   "nbconvert_exporter": "python",
   "pygments_lexer": "ipython3",
   "version": "3.8.8"
  }
 },
 "nbformat": 4,
 "nbformat_minor": 5
}
